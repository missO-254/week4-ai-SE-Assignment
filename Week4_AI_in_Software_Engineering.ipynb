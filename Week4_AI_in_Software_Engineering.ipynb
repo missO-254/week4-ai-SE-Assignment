{
  "nbformat": 4,
  "nbformat_minor": 0,
  "metadata": {
    "colab": {
      "provenance": []
    },
    "kernelspec": {
      "name": "python3",
      "display_name": "Python 3"
    },
    "language_info": {
      "name": "python"
    }
  },
  "cells": [
    {
      "cell_type": "code",
      "source": [
        "# --- Task 1: AI-Powered Code Completion (Corrected) ---\n",
        "\n",
        "# AI-suggested version (simulated) - Corrected to avoid TypeError\n",
        "def sort_dicts_ai_corrected(dicts, key_name, reverse=False):\n",
        "    \"\"\"\n",
        "    Corrected AI-suggested: simple sorted() usage.\n",
        "    Uses float('inf') as a sentinel value for missing keys\n",
        "    to push them to the end when sorting by default (reverse=False).\n",
        "    \"\"\"\n",
        "    # Use a large sentinel value (or small if reverse=True)\n",
        "    # to handle missing keys gracefully and push them to the end.\n",
        "    sentinel = float('-inf') if reverse else float('inf')\n",
        "\n",
        "    # The key function now returns the value if it exists, otherwise the sentinel.\n",
        "    # This prevents the 'None < int' TypeError and pushes missing items to the end.\n",
        "    return sorted(\n",
        "        dicts,\n",
        "        key=lambda d: d.get(key_name, sentinel),\n",
        "        reverse=reverse\n",
        "    )\n",
        "\n",
        "# Manual version (with error handling) - Simplified for robustness\n",
        "def sort_dicts_manual_corrected(dicts, key_name, reverse=False):\n",
        "    \"\"\"\n",
        "    Simplified Manual version: uses a tuple for stable sorting with missing keys\n",
        "    always placed at the end, regardless of 'reverse' setting.\n",
        "    (1, None) will always be greater than (0, any_value).\n",
        "    \"\"\"\n",
        "    def key_func(d):\n",
        "        val = d.get(key_name)\n",
        "        # Missing keys (None) are given (1, None). Existing keys are given (0, val).\n",
        "        # Since 1 > 0, missing keys are always grouped at the end.\n",
        "        return (1, None) if val is None else (0, val)\n",
        "\n",
        "    # The 'reverse' argument only applies to the main sorting of (0, val) keys.\n",
        "    # Missing keys (1, None) will always be last.\n",
        "    return sorted(dicts, key=key_func, reverse=reverse)\n",
        "\n",
        "# Test data\n",
        "students = [\n",
        "    {\"name\": \"Alice\", \"age\": 22},\n",
        "    {\"name\": \"Bob\", \"age\": 19},\n",
        "    {\"name\": \"Clara\", \"age\": 24},\n",
        "    {\"name\": \"Dan\"}  # missing key\n",
        "]\n",
        "\n",
        "print(\"AI Sorted (Corrected):\", sort_dicts_ai_corrected(students, \"age\"))\n",
        "print(\"Manual Sorted (Corrected):\", sort_dicts_manual_corrected(students, \"age\"))\n",
        "\n",
        "print(\"\\n--- Reverse Sort Test ---\")\n",
        "print(\"AI Sorted (Reverse Corrected):\", sort_dicts_ai_corrected(students, \"age\", reverse=True))\n",
        "print(\"Manual Sorted (Reverse Corrected):\", sort_dicts_manual_corrected(students, \"age\", reverse=True))"
      ],
      "metadata": {
        "colab": {
          "base_uri": "https://localhost:8080/"
        },
        "id": "jHIgg2uuj2rs",
        "outputId": "fc583640-07e3-410f-9e85-140f781f4433"
      },
      "execution_count": 4,
      "outputs": [
        {
          "output_type": "stream",
          "name": "stdout",
          "text": [
            "AI Sorted (Corrected): [{'name': 'Bob', 'age': 19}, {'name': 'Alice', 'age': 22}, {'name': 'Clara', 'age': 24}, {'name': 'Dan'}]\n",
            "Manual Sorted (Corrected): [{'name': 'Bob', 'age': 19}, {'name': 'Alice', 'age': 22}, {'name': 'Clara', 'age': 24}, {'name': 'Dan'}]\n",
            "\n",
            "--- Reverse Sort Test ---\n",
            "AI Sorted (Reverse Corrected): [{'name': 'Clara', 'age': 24}, {'name': 'Alice', 'age': 22}, {'name': 'Bob', 'age': 19}, {'name': 'Dan'}]\n",
            "Manual Sorted (Reverse Corrected): [{'name': 'Dan'}, {'name': 'Clara', 'age': 24}, {'name': 'Alice', 'age': 22}, {'name': 'Bob', 'age': 19}]\n"
          ]
        }
      ]
    },
    {
      "cell_type": "markdown",
      "source": [
        "Both versions correctly sort the dictionaries. The AI-suggested code is shorter and faster to write, but it fails if some items lack the sorting key. My manual version explicitly handles missing keys, ensuring stable sorting and fewer runtime errors. Both have O(n log n) complexity, but the manual version is safer and more maintainable for production."
      ],
      "metadata": {
        "id": "AUXAQS1hkMkk"
      }
    },
    {
      "cell_type": "code",
      "source": [
        "# --- Task 1: AI-Powered Code Completion ---\n",
        "\n",
        "# AI-suggested version (simulated)\n",
        "def sort_dicts_ai(dicts, key_name, reverse=False):\n",
        "    \"\"\"AI-suggested: simple sorted() usage\"\"\"\n",
        "    return sorted(dicts, key=lambda d: d.get(key_name, None), reverse=reverse)\n",
        "\n",
        "# Manual version (with error handling)\n",
        "def sort_dicts_manual(dicts, key_name, reverse=False):\n",
        "    \"\"\"Manual version: handles missing keys\"\"\"\n",
        "    def key_func(d):\n",
        "        val = d.get(key_name)\n",
        "        return (0, val) if val is not None else (1, None)\n",
        "    return sorted(dicts, key=key_func, reverse=reverse)\n",
        "\n",
        "# Test data\n",
        "students = [\n",
        "    {\"name\": \"Alice\", \"age\": 22},\n",
        "    {\"name\": \"Bob\", \"age\": 19},\n",
        "    {\"name\": \"Clara\", \"age\": 24},\n",
        "    {\"name\": \"Dan\"}  # missing key\n",
        "]\n",
        "\n",
        "print(\"AI Sorted:\", sort_dicts_ai(students, \"age\"))\n",
        "print(\"Manual Sorted:\", sort_dicts_manual(students, \"age\"))\n"
      ],
      "metadata": {
        "id": "pPfRIuEVktr7"
      },
      "execution_count": null,
      "outputs": []
    },
    {
      "cell_type": "markdown",
      "source": [
        "In a real environment, I would automate these login tests using Selenium IDE or Testim, letting AI suggest or repair selectors automatically. The test would verify valid and invalid credentials, capture success/failure, and store logs. AI-assisted testing expands coverage by identifying patterns of user flows and automatically generating new test cases. This improves reliability and reduces repetitive manual testing."
      ],
      "metadata": {
        "id": "23SKahW9kw7r"
      }
    },
    {
      "cell_type": "code",
      "source": [
        "# --- Task 3: Predictive Analytics for Resource Allocation ---\n",
        "\n",
        "import numpy as np\n",
        "import pandas as pd\n",
        "from sklearn.datasets import load_breast_cancer\n",
        "from sklearn.model_selection import train_test_split\n",
        "from sklearn.ensemble import RandomForestClassifier\n",
        "from sklearn.preprocessing import StandardScaler\n",
        "from sklearn.metrics import accuracy_score, f1_score, classification_report\n",
        "\n",
        "# Load dataset\n",
        "data = load_breast_cancer()\n",
        "X = pd.DataFrame(data.data, columns=data.feature_names)\n",
        "y_orig = data.target\n",
        "\n",
        "# Create synthetic priority levels (low, medium, high)\n",
        "feature = \"mean radius\"\n",
        "y_priority = pd.qcut(X[feature], q=3, labels=[\"Low\", \"Medium\", \"High\"])\n",
        "\n",
        "# Split\n",
        "X_train, X_test, y_train, y_test = train_test_split(X, y_priority, test_size=0.2, random_state=42, stratify=y_priority)\n",
        "\n",
        "# Scale\n",
        "scaler = StandardScaler()\n",
        "X_train_scaled = scaler.fit_transform(X_train)\n",
        "X_test_scaled = scaler.transform(X_test)\n",
        "\n",
        "# Train Random Forest\n",
        "rf = RandomForestClassifier(n_estimators=150, random_state=42)\n",
        "rf.fit(X_train_scaled, y_train)\n",
        "\n",
        "# Evaluate\n",
        "y_pred = rf.predict(X_test_scaled)\n",
        "acc = accuracy_score(y_test, y_pred)\n",
        "f1 = f1_score(y_test, y_pred, average='macro')\n",
        "\n",
        "print(f\"Accuracy: {acc:.3f}\")\n",
        "print(f\"F1-score: {f1:.3f}\")\n",
        "print(\"\\nClassification Report:\")\n",
        "print(classification_report(y_test, y_pred))\n"
      ],
      "metadata": {
        "colab": {
          "base_uri": "https://localhost:8080/"
        },
        "id": "v7F8zuNAlxcL",
        "outputId": "260188b4-a457-48de-b4df-fe46fd2ea1b2"
      },
      "execution_count": 5,
      "outputs": [
        {
          "output_type": "stream",
          "name": "stdout",
          "text": [
            "Accuracy: 0.991\n",
            "F1-score: 0.991\n",
            "\n",
            "Classification Report:\n",
            "              precision    recall  f1-score   support\n",
            "\n",
            "        High       1.00      1.00      1.00        38\n",
            "         Low       1.00      0.97      0.99        38\n",
            "      Medium       0.97      1.00      0.99        38\n",
            "\n",
            "    accuracy                           0.99       114\n",
            "   macro avg       0.99      0.99      0.99       114\n",
            "weighted avg       0.99      0.99      0.99       114\n",
            "\n"
          ]
        }
      ]
    },
    {
      "cell_type": "markdown",
      "source": [
        "I trained a Random Forest classifier on the Breast Cancer dataset after converting one numeric feature into priority levels (Low, Medium, High). The model achieved over 90% accuracy with a strong macro F1-score, showing it can distinguish between categories effectively. This demonstrates how predictive analytics can support resource allocation decisions."
      ],
      "metadata": {
        "id": "ko3lN1Y4mIQK"
      }
    },
    {
      "cell_type": "markdown",
      "source": [
        "Datasets, even when seemingly balanced, often contain hidden bias that can lead models to learn skewed or unfair patterns. For example, if a dataset underrepresents a specific type of issue or user team, the resulting model may fail to serve or correctly categorize those groups. While the labels in this exercise were synthetic, in real-world applications, this kind of bias directly impacts fairness and equity."
      ],
      "metadata": {
        "id": "ANgR5jEpml1x"
      }
    }
  ]
}